{
  "cells": [
    {
      "cell_type": "code",
      "execution_count": 1,
      "metadata": {
        "id": "FCj_2-sLbDBo"
      },
      "outputs": [],
      "source": [
        "# Import the necessary PySpark libraries\n",
        "from pyspark.sql import SparkSession\n",
        "from pyspark.sql.functions import col, year, month, date_format, regexp_replace"
      ]
    },
    {
      "cell_type": "code",
      "execution_count": 2,
      "metadata": {
        "id": "IQLp0xYQxe_Z"
      },
      "outputs": [],
      "source": [
        "# Start a Spark session\n",
        "spark = SparkSession.builder \\\n",
        "    .appName(\"RedfinHousingDataETL\") \\\n",
        "    .getOrCreate()"
      ]
    },
    {
      "cell_type": "code",
      "execution_count": 3,
      "metadata": {
        "id": "Dhp0I4B0c2Bj"
      },
      "outputs": [],
      "source": [
        "# Source data URL\n",
        "housing_by_city = \"https://redfin-public-data.s3.us-west-2.amazonaws.com/redfin_market_tracker/city_market_tracker.tsv000.gz\"\n",
        "\n",
        "# Download and read the gzipped TSV file with Spark\n",
        "def extract_data(url):\n",
        "    # You must first download the file because Spark can't read HTTP URLs directly\n",
        "    import urllib.request\n",
        "    import os\n",
        "\n",
        "    local_file = \"city_market_tracker.tsv000.gz\"\n",
        "    if not os.path.exists(local_file):\n",
        "        urllib.request.urlretrieve(url, local_file)\n",
        "\n",
        "    # Load it with Spark\n",
        "    df = spark.read.option(\"header\", True) \\\n",
        "                   .option(\"sep\", \"\\t\") \\\n",
        "                   .csv(local_file)\n",
        "\n",
        "    # Return the dataframe\n",
        "    return df"
      ]
    },
    {
      "cell_type": "code",
      "execution_count": 4,
      "metadata": {
        "id": "6tmOnMf3yCvQ"
      },
      "outputs": [],
      "source": [
        "# Call the extract function upon the data source\n",
        "raw_df = extract_data(housing_by_city)"
      ]
    },
    {
      "cell_type": "code",
      "execution_count": 5,
      "metadata": {
        "colab": {
          "base_uri": "https://localhost:8080/"
        },
        "id": "S1kA1XAz1LN8",
        "outputId": "b59d631f-28d3-47ca-ba70-77eebc29d242"
      },
      "outputs": [
        {
          "output_type": "stream",
          "name": "stdout",
          "text": [
            "Num of rows: 5779946\n",
            "Num of cols: 58\n"
          ]
        }
      ],
      "source": [
        "# Report the size of the raw dataset\n",
        "print(\"Num of rows:\", raw_df.count())\n",
        "print(\"Num of cols:\", len(raw_df.columns))"
      ]
    },
    {
      "cell_type": "code",
      "execution_count": 6,
      "metadata": {
        "colab": {
          "base_uri": "https://localhost:8080/"
        },
        "id": "8HfF_sVyyJp_",
        "outputId": "2f3db5f6-445a-492e-9122-3480567e6021"
      },
      "outputs": [
        {
          "output_type": "stream",
          "name": "stdout",
          "text": [
            "+------------+----------+---------------+-----------+--------------+--------+----------------------+-------------+---------+---------+----------+--------------------+----------------+-----------------+---------------------+---------------------+-----------------+---------------------+---------------------+------------------+--------------------+--------------------+------------------+--------------------+--------------------+----------+--------------------+--------------------+-------------+--------------------+--------------------+------------+--------------------+--------------------+---------+--------------------+--------------------+------------------+--------------------+--------------------+----------+--------------+--------------+-------------------+--------------------+--------------------+-------------------+--------------------+--------------------+-------------------+--------------------+--------------------+-----------------------+---------------------------+---------------------------+-------------------+------------------------------+-------------------+\n",
            "|period_begin|period_end|period_duration|region_type|region_type_id|table_id|is_seasonally_adjusted|       region|     city|    state|state_code|       property_type|property_type_id|median_sale_price|median_sale_price_mom|median_sale_price_yoy|median_list_price|median_list_price_mom|median_list_price_yoy|       median_ppsf|     median_ppsf_mom|     median_ppsf_yoy|  median_list_ppsf|median_list_ppsf_mom|median_list_ppsf_yoy|homes_sold|      homes_sold_mom|      homes_sold_yoy|pending_sales|   pending_sales_mom|   pending_sales_yoy|new_listings|    new_listings_mom|    new_listings_yoy|inventory|       inventory_mom|       inventory_yoy|  months_of_supply|months_of_supply_mom|months_of_supply_yoy|median_dom|median_dom_mom|median_dom_yoy|   avg_sale_to_list|avg_sale_to_list_mom|avg_sale_to_list_yoy|    sold_above_list| sold_above_list_mom| sold_above_list_yoy|        price_drops|     price_drops_mom|     price_drops_yoy|off_market_in_two_weeks|off_market_in_two_weeks_mom|off_market_in_two_weeks_yoy|parent_metro_region|parent_metro_region_metro_code|       last_updated|\n",
            "+------------+----------+---------------+-----------+--------------+--------+----------------------+-------------+---------+---------+----------+--------------------+----------------+-----------------+---------------------+---------------------+-----------------+---------------------+---------------------+------------------+--------------------+--------------------+------------------+--------------------+--------------------+----------+--------------------+--------------------+-------------+--------------------+--------------------+------------+--------------------+--------------------+---------+--------------------+--------------------+------------------+--------------------+--------------------+----------+--------------+--------------+-------------------+--------------------+--------------------+-------------------+--------------------+--------------------+-------------------+--------------------+--------------------+-----------------------+---------------------------+---------------------------+-------------------+------------------------------+-------------------+\n",
            "|  2016-09-01|2016-09-30|             30|      place|             6|   19944|                     f| Waukegan, IL| Waukegan| Illinois|        IL|Multi-Family (2-4...|               4|           100000|  -0.3127147766323024|   1.1052631578947367|           130800|  0.13739130434782609|  0.30865432716358177|47.206203661795769|-0.14092936562509695| 0.91826963264523243|95.076586433260388| 0.13143473685735363| 0.27803965393219143|         4|-0.33333333333333337| 0.33333333333333326|            5|-0.16666666666666663|-0.16666666666666663|           5|              -0.375|                -0.5|       20|-0.09090909090909...| -0.2857142857142857|                 5|  1.2999999999999998| -4.3000000000000007|        55|            39|          -228| 1.1111756852918888| 0.13212021536568497| 0.16709829037081858|               0.25|-0.08333333333333...|                0.25|0.20000000000000001|  0.1090909090909091|0.021428571428571436|                      0|       -0.33333333333333331|                       -0.5|    Lake County, IL|                         29404|2025-03-10 14:20:36|\n",
            "|  2019-03-01|2019-03-31|             30|      place|             6|   18453|                     f| Zumbrota, MN| Zumbrota|Minnesota|        MN|Single Family Res...|               6|           233500| -0.18754349338900489|   0.2390554523746351|           204900|                    0|  -0.1277139208173691|142.08238592397709|-0.01224562603999...| 0.31586756225684076|94.829222011385198|-0.33749447635881569|-0.16161985125404021|         4|                   3|                   0|            6| 0.19999999999999996| 0.19999999999999996|           3|                -0.5|-0.40000000000000002|       13|                   0|0.083333333333333259|3.2999999999999998| -9.6999999999999993| 0.29999999999999982|        80|            59|            59| 1.0066729083871149|0.015296571719298435|0.010593946786249475|               0.25|                0.25|                0.25|               NULL|                NULL|                NULL|                    0.5|        0.29999999999999999|                        0.5|       Red Wing, MN|                         39860|2025-03-10 14:20:36|\n",
            "|  2015-08-01|2015-08-31|             30|      place|             6|   16347|                     f| Poquoson, VA| Poquoson| Virginia|        VA|Single Family Res...|               6|           345000|  0.55405405405405395|  0.37999999999999989|           372450|  0.12880739505985761|   0.2456521739130435|131.69972941228588|-0.08578437832971...|0.063952605178368538|139.71686836993874| 0.10617493837430891| 0.14587237183956692|        14| 0.27272727272727271|-0.17647058823529416|           10|-0.33333333333333337| 0.11111111111111116|           8|-0.66666666666666674|-0.65217391304347827|       79|-0.08139534883720...|0.025974025974025983|5.5999999999999996| -2.2000000000000002|  1.0999999999999996|        73|            18|           -60|0.95700212690202469|-0.02915813700388...|-0.02054370737271...|0.14285714285714285|0.051948051948051938|-0.03361344537815128|0.24050632911392406|0.031204003532528696|-0.03222094361334...|                      0|                          0|                          0| Virginia Beach, VA|                         47260|2025-03-10 14:20:36|\n",
            "|  2024-01-01|2024-01-31|             30|      place|             6|   26370|                     f|Whitfield, FL|Whitfield|  Florida|        FL|     All Residential|              -1|           616250|  0.35439560439560447|  0.58419023136246784|           129900| -0.59406249999999994| -0.66606683804627242|351.68837874532471| 0.41448292989877844| 0.14296235962089954|352.34899328859058| 0.93791946308724827| 0.33900438736973837|         4|                   3|                   1|            4|-0.19999999999999996|-0.19999999999999996|           5|                   4| 0.66666666666666674|       21|              -0.125|  3.2000000000000002|5.2999999999999998| -18.699999999999999|  2.7999999999999998|        17|           -82|             5|0.97970813682081714|-0.02029186317918...|-0.00556432267844...|                  0|                   0|                   0| 0.2857142857142857|  0.1607142857142857|-0.11428571428571432|                      0|       -0.20000000000000001|       -0.40000000000000002|     North Port, FL|                         35840|2025-03-10 14:20:36|\n",
            "|  2020-10-01|2020-10-31|             30|      place|             6|    7685|                     f|  Hopkins, MN|  Hopkins|Minnesota|        MN|Single Family Res...|               6|           330000| -0.06515580736543...| -0.13157894736842102|           309450| -0.04784615384615...|  0.28991246352646938| 202.9490731928725|0.038988429315046869| 0.15179568127343179|177.23572235274344|-0.01392489018291...| 0.22448874440056499|         8|-0.38461538461538458|-0.46666666666666667|           12| 0.19999999999999996| 0.19999999999999996|          19| 0.89999999999999991|  1.7142857142857144|       19| 0.46153846153846145| 0.46153846153846145|2.3999999999999999|  1.3999999999999999|                 1.5|        25|            13|             4| 1.0207242737131743|0.008574780458785...|0.013793876476903888|              0.625|0.009615384615384...| 0.29166666666666669|0.42105263157894735| 0.19028340080971656|-0.04048582995951...|    0.83333333333333337|        0.33333333333333337|        0.53333333333333344|    Minneapolis, MN|                         33460|2025-03-10 14:20:36|\n",
            "+------------+----------+---------------+-----------+--------------+--------+----------------------+-------------+---------+---------+----------+--------------------+----------------+-----------------+---------------------+---------------------+-----------------+---------------------+---------------------+------------------+--------------------+--------------------+------------------+--------------------+--------------------+----------+--------------------+--------------------+-------------+--------------------+--------------------+------------+--------------------+--------------------+---------+--------------------+--------------------+------------------+--------------------+--------------------+----------+--------------+--------------+-------------------+--------------------+--------------------+-------------------+--------------------+--------------------+-------------------+--------------------+--------------------+-----------------------+---------------------------+---------------------------+-------------------+------------------------------+-------------------+\n",
            "only showing top 5 rows\n",
            "\n"
          ]
        }
      ],
      "source": [
        "# Show the first 5 records of the raw data\n",
        "raw_df.show(5)"
      ]
    },
    {
      "cell_type": "code",
      "execution_count": 11,
      "metadata": {
        "id": "Vtlxmtxeylvn"
      },
      "outputs": [],
      "source": [
        "# The function that would carry out the transformation of the Redfin data\n",
        "def transform_redfin_data(df):\n",
        "    # Select the 24 desired columns\n",
        "    selected_cols = [\n",
        "        'period_begin', 'period_end', 'period_duration', 'region_type', 'region_type_id', 'table_id',\n",
        "        'is_seasonally_adjusted', 'city', 'state', 'state_code', 'property_type', 'property_type_id',\n",
        "        'median_sale_price', 'median_list_price', 'median_ppsf', 'median_list_ppsf', 'homes_sold',\n",
        "        'inventory', 'months_of_supply', 'median_dom', 'avg_sale_to_list', 'sold_above_list',\n",
        "        'parent_metro_region_metro_code', 'last_updated'\n",
        "    ]\n",
        "    df = df.select(selected_cols)\n",
        "\n",
        "    # Remove commas from 'city' field\n",
        "    df = df.withColumn(\"city\", regexp_replace(col(\"city\"), \",\", \"\"))\n",
        "\n",
        "    # Drop records with any nulls\n",
        "    df = df.dropna()\n",
        "\n",
        "    # Convert 'period_begin' and 'period_end' to proper timestamps\n",
        "    df = df.withColumn(\"period_begin\", col(\"period_begin\").cast(\"date\"))\n",
        "    df = df.withColumn(\"period_end\", col(\"period_end\").cast(\"date\"))\n",
        "\n",
        "    # Extract year from period_begin and period_end into new columns\n",
        "    df = df.withColumn(\"period_begin_in_years\", year(col(\"period_begin\")))\n",
        "    df = df.withColumn(\"period_end_in_years\", year(col(\"period_end\")))\n",
        "\n",
        "    # Extract month name from period_begin and period_end into new columns\n",
        "    df = df.withColumn(\"period_begin_in_months\", date_format(col(\"period_begin\"), \"MMMM\"))\n",
        "    df = df.withColumn(\"period_end_in_months\", date_format(col(\"period_end\"), \"MMMM\"))\n",
        "\n",
        "    # Return the dataframe\n",
        "    return df"
      ]
    },
    {
      "cell_type": "code",
      "execution_count": 12,
      "metadata": {
        "id": "ctPiRP80yvRO"
      },
      "outputs": [],
      "source": [
        "# Call the transform function upon the raw data\n",
        "trasformed_df = transform_redfin_data(raw_df)"
      ]
    },
    {
      "cell_type": "code",
      "execution_count": 13,
      "metadata": {
        "id": "DthcCOb0y06_",
        "colab": {
          "base_uri": "https://localhost:8080/"
        },
        "outputId": "dc75b71a-ee1b-410e-937a-7d424da5d39f"
      },
      "outputs": [
        {
          "output_type": "stream",
          "name": "stdout",
          "text": [
            "+------------+----------+---------------+-----------+--------------+--------+----------------------+---------+---------+----------+--------------------+----------------+-----------------+-----------------+------------------+------------------+----------+---------+------------------+----------+-------------------+-------------------+------------------------------+-------------------+---------------------+-------------------+----------------------+--------------------+\n",
            "|period_begin|period_end|period_duration|region_type|region_type_id|table_id|is_seasonally_adjusted|     city|    state|state_code|       property_type|property_type_id|median_sale_price|median_list_price|       median_ppsf|  median_list_ppsf|homes_sold|inventory|  months_of_supply|median_dom|   avg_sale_to_list|    sold_above_list|parent_metro_region_metro_code|       last_updated|period_begin_in_years|period_end_in_years|period_begin_in_months|period_end_in_months|\n",
            "+------------+----------+---------------+-----------+--------------+--------+----------------------+---------+---------+----------+--------------------+----------------+-----------------+-----------------+------------------+------------------+----------+---------+------------------+----------+-------------------+-------------------+------------------------------+-------------------+---------------------+-------------------+----------------------+--------------------+\n",
            "|  2016-09-01|2016-09-30|             30|      place|             6|   19944|                     f| Waukegan| Illinois|        IL|Multi-Family (2-4...|               4|           100000|           130800|47.206203661795769|95.076586433260388|         4|       20|                 5|        55| 1.1111756852918888|               0.25|                         29404|2025-03-10 14:20:36|                 2016|               2016|             September|           September|\n",
            "|  2019-03-01|2019-03-31|             30|      place|             6|   18453|                     f| Zumbrota|Minnesota|        MN|Single Family Res...|               6|           233500|           204900|142.08238592397709|94.829222011385198|         4|       13|3.2999999999999998|        80| 1.0066729083871149|               0.25|                         39860|2025-03-10 14:20:36|                 2019|               2019|                 March|               March|\n",
            "|  2015-08-01|2015-08-31|             30|      place|             6|   16347|                     f| Poquoson| Virginia|        VA|Single Family Res...|               6|           345000|           372450|131.69972941228588|139.71686836993874|        14|       79|5.5999999999999996|        73|0.95700212690202469|0.14285714285714285|                         47260|2025-03-10 14:20:36|                 2015|               2015|                August|              August|\n",
            "|  2024-01-01|2024-01-31|             30|      place|             6|   26370|                     f|Whitfield|  Florida|        FL|     All Residential|              -1|           616250|           129900|351.68837874532471|352.34899328859058|         4|       21|5.2999999999999998|        17|0.97970813682081714|                  0|                         35840|2025-03-10 14:20:36|                 2024|               2024|               January|             January|\n",
            "|  2020-10-01|2020-10-31|             30|      place|             6|    7685|                     f|  Hopkins|Minnesota|        MN|Single Family Res...|               6|           330000|           309450| 202.9490731928725|177.23572235274344|         8|       19|2.3999999999999999|        25| 1.0207242737131743|              0.625|                         33460|2025-03-10 14:20:36|                 2020|               2020|               October|             October|\n",
            "+------------+----------+---------------+-----------+--------------+--------+----------------------+---------+---------+----------+--------------------+----------------+-----------------+-----------------+------------------+------------------+----------+---------+------------------+----------+-------------------+-------------------+------------------------------+-------------------+---------------------+-------------------+----------------------+--------------------+\n",
            "only showing top 5 rows\n",
            "\n"
          ]
        }
      ],
      "source": [
        "# Show the first 5 records of transformed data\n",
        "trasformed_df.show(5)"
      ]
    },
    {
      "cell_type": "code",
      "execution_count": 14,
      "metadata": {
        "colab": {
          "base_uri": "https://localhost:8080/"
        },
        "id": "8F-KeMiey8ym",
        "outputId": "000e9cdb-887f-4aaa-90a1-7ef2956fa129"
      },
      "outputs": [
        {
          "output_type": "stream",
          "name": "stdout",
          "text": [
            "Num of rows: 4500063\n",
            "Num of cols: 28\n"
          ]
        }
      ],
      "source": [
        "# Report the size of the transformed dataset\n",
        "print(\"Num of rows:\", trasformed_df.count())\n",
        "print(\"Num of cols:\", len(trasformed_df.columns))"
      ]
    },
    {
      "cell_type": "code",
      "execution_count": null,
      "metadata": {
        "id": "Eei5KKrW0Hrt"
      },
      "outputs": [],
      "source": [
        "# Download the transformed dataset as Parquet file (not necessary for this purpose)\n",
        "trasformed_df.write.mode(\"overwrite\").parquet(\"Redfin_housing_data_by_City.parquet\")"
      ]
    }
  ],
  "metadata": {
    "colab": {
      "provenance": []
    },
    "kernelspec": {
      "display_name": "Python 3",
      "name": "python3"
    },
    "language_info": {
      "name": "python"
    }
  },
  "nbformat": 4,
  "nbformat_minor": 0
}
